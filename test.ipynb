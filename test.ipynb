{
 "cells": [
  {
   "cell_type": "code",
   "execution_count": 1,
   "metadata": {
    "collapsed": false
   },
   "outputs": [
    {
     "name": "stderr",
     "output_type": "stream",
     "text": [
      "/Users/ajinkyapuar/anaconda/envs/py35/lib/python3.5/site-packages/h5py/__init__.py:34: FutureWarning: Conversion of the second argument of issubdtype from `float` to `np.floating` is deprecated. In future, it will be treated as `np.float64 == np.dtype(float).type`.\n",
      "  from ._conv import register_converters as _register_converters\n"
     ]
    }
   ],
   "source": [
    "import numpy as np\n",
    "import tensorflow as tf"
   ]
  },
  {
   "cell_type": "code",
   "execution_count": 6,
   "metadata": {
    "collapsed": false
   },
   "outputs": [],
   "source": [
    "# Load TFLite model and allocate tensors.\n",
    "interpreter = tf.lite.Interpreter(model_path=\"./hand_landmark_3d.tflite\")\n",
    "interpreter.allocate_tensors()"
   ]
  },
  {
   "cell_type": "code",
   "execution_count": 7,
   "metadata": {
    "collapsed": true
   },
   "outputs": [],
   "source": [
    "# Get input and output tensors.\n",
    "input_details = interpreter.get_input_details()\n",
    "output_details = interpreter.get_output_details()"
   ]
  },
  {
   "cell_type": "code",
   "execution_count": 8,
   "metadata": {
    "collapsed": false
   },
   "outputs": [
    {
     "name": "stdout",
     "output_type": "stream",
     "text": [
      "[{'quantization': (0.0, 0), 'dtype': <class 'numpy.float32'>, 'shape': array([  1, 256, 256,   3], dtype=int32), 'index': 0, 'name': 'input_1'}]\n"
     ]
    }
   ],
   "source": [
    "print(input_details)"
   ]
  },
  {
   "cell_type": "code",
   "execution_count": 9,
   "metadata": {
    "collapsed": false
   },
   "outputs": [
    {
     "name": "stdout",
     "output_type": "stream",
     "text": [
      "[{'quantization': (0.0, 0), 'dtype': <class 'numpy.float32'>, 'shape': array([ 1, 63], dtype=int32), 'index': 385, 'name': 'ld_21_3d'}, {'quantization': (0.0, 0), 'dtype': <class 'numpy.float32'>, 'shape': array([1, 1], dtype=int32), 'index': 386, 'name': 'output_handflag'}]\n"
     ]
    }
   ],
   "source": [
    "print(output_details)"
   ]
  },
  {
   "cell_type": "code",
   "execution_count": 10,
   "metadata": {
    "collapsed": true
   },
   "outputs": [],
   "source": [
    "# Test model on random input data.\n",
    "input_shape = input_details[0]['shape']\n",
    "input_data = np.array(np.random.random_sample(input_shape), dtype=np.float32)\n",
    "interpreter.set_tensor(input_details[0]['index'], input_data)"
   ]
  },
  {
   "cell_type": "code",
   "execution_count": 11,
   "metadata": {
    "collapsed": true
   },
   "outputs": [],
   "source": [
    "interpreter.invoke()"
   ]
  },
  {
   "cell_type": "code",
   "execution_count": 12,
   "metadata": {
    "collapsed": false
   },
   "outputs": [
    {
     "name": "stdout",
     "output_type": "stream",
     "text": [
      "[[1.65275238e+02 1.90501495e+02 8.02889466e-04 1.47882874e+02\n",
      "  1.28290009e+02 1.88407936e+01 1.32892044e+02 1.02117683e+02\n",
      "  3.95303688e+01 1.19927887e+02 9.51195450e+01 5.59375687e+01\n",
      "  1.10793968e+02 8.71955261e+01 7.27503357e+01 1.49083298e+02\n",
      "  8.61338272e+01 6.73389511e+01 1.35135452e+02 7.44300156e+01\n",
      "  8.92719879e+01 1.24075569e+02 6.64616241e+01 1.03267754e+02\n",
      "  1.15640800e+02 6.10042953e+01 1.13386810e+02 1.49985489e+02\n",
      "  1.01617264e+02 6.55956955e+01 1.30786728e+02 9.13435898e+01\n",
      "  8.82291794e+01 1.19295914e+02 8.63128738e+01 9.16602554e+01\n",
      "  1.15370697e+02 8.17838287e+01 9.63953171e+01 1.47842560e+02\n",
      "  1.18558342e+02 6.27679787e+01 1.30382462e+02 1.09748726e+02\n",
      "  7.93520355e+01 1.22746078e+02 1.06597816e+02 7.40699005e+01\n",
      "  1.22523880e+02 1.04830078e+02 7.31558456e+01 1.43837372e+02\n",
      "  1.37249466e+02 6.08088226e+01 1.32662659e+02 1.26982559e+02\n",
      "  7.23959808e+01 1.27550568e+02 1.23775246e+02 6.94446182e+01\n",
      "  1.27865463e+02 1.22069366e+02 6.98505783e+01]]\n"
     ]
    }
   ],
   "source": [
    "# The function `get_tensor()` returns a copy of the tensor data.\n",
    "# Use `tensor()` in order to get a pointer to the tensor.\n",
    "output_data = interpreter.get_tensor(output_details[0]['index'])\n",
    "print(output_data)"
   ]
  },
  {
   "cell_type": "code",
   "execution_count": 13,
   "metadata": {
    "collapsed": false
   },
   "outputs": [
    {
     "data": {
      "text/plain": [
       "(1, 63)"
      ]
     },
     "execution_count": 13,
     "metadata": {},
     "output_type": "execute_result"
    }
   ],
   "source": [
    "output_data.shape"
   ]
  },
  {
   "cell_type": "code",
   "execution_count": null,
   "metadata": {
    "collapsed": true
   },
   "outputs": [],
   "source": []
  },
  {
   "cell_type": "code",
   "execution_count": null,
   "metadata": {
    "collapsed": true
   },
   "outputs": [],
   "source": []
  },
  {
   "cell_type": "code",
   "execution_count": null,
   "metadata": {
    "collapsed": true
   },
   "outputs": [],
   "source": []
  },
  {
   "cell_type": "code",
   "execution_count": null,
   "metadata": {
    "collapsed": true
   },
   "outputs": [],
   "source": []
  }
 ],
 "metadata": {
  "kernelspec": {
   "display_name": "Python 3",
   "language": "python",
   "name": "python3"
  },
  "language_info": {
   "codemirror_mode": {
    "name": "ipython",
    "version": 3
   },
   "file_extension": ".py",
   "mimetype": "text/x-python",
   "name": "python",
   "nbconvert_exporter": "python",
   "pygments_lexer": "ipython3",
   "version": "3.5.2"
  }
 },
 "nbformat": 4,
 "nbformat_minor": 2
}
